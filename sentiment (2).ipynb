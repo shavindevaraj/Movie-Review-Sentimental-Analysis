{
  "nbformat": 4,
  "nbformat_minor": 0,
  "metadata": {
    "colab": {
      "name": "sentiment.ipynb",
      "provenance": [],
      "collapsed_sections": []
    },
    "kernelspec": {
      "name": "python3",
      "display_name": "Python 3"
    }
  },
  "cells": [
    {
      "cell_type": "code",
      "metadata": {
        "id": "OQR5jGQS7OCI",
        "colab_type": "code",
        "colab": {
          "base_uri": "https://localhost:8080/",
          "height": 124
        },
        "outputId": "a8684bdd-74b4-4966-cb0b-429789c27336"
      },
      "source": [
        "# Accessing My Google Drive\n",
        "from google.colab import drive\n",
        "drive.mount('/content/drive')"
      ],
      "execution_count": 2,
      "outputs": [
        {
          "output_type": "stream",
          "text": [
            "Go to this URL in a browser: https://accounts.google.com/o/oauth2/auth?client_id=947318989803-6bn6qk8qdgf4n4g3pfee6491hc0brc4i.apps.googleusercontent.com&redirect_uri=urn%3aietf%3awg%3aoauth%3a2.0%3aoob&response_type=code&scope=email%20https%3a%2f%2fwww.googleapis.com%2fauth%2fdocs.test%20https%3a%2f%2fwww.googleapis.com%2fauth%2fdrive%20https%3a%2f%2fwww.googleapis.com%2fauth%2fdrive.photos.readonly%20https%3a%2f%2fwww.googleapis.com%2fauth%2fpeopleapi.readonly\n",
            "\n",
            "Enter your authorization code:\n",
            "··········\n",
            "Mounted at /content/drive\n"
          ],
          "name": "stdout"
        }
      ]
    },
    {
      "cell_type": "code",
      "metadata": {
        "id": "_yEGclHkZ0ze",
        "colab_type": "code",
        "colab": {
          "base_uri": "https://localhost:8080/",
          "height": 35
        },
        "outputId": "70b8f51e-f6c3-4025-d12e-850ed914fb34"
      },
      "source": [
        "cd drive"
      ],
      "execution_count": 3,
      "outputs": [
        {
          "output_type": "stream",
          "text": [
            "/content/drive\n"
          ],
          "name": "stdout"
        }
      ]
    },
    {
      "cell_type": "markdown",
      "metadata": {
        "id": "bTursdjajXUD",
        "colab_type": "text"
      },
      "source": [
        "DATA COLLECTION"
      ]
    },
    {
      "cell_type": "code",
      "metadata": {
        "id": "_uoPyvcv77l5",
        "colab_type": "code",
        "colab": {
          "base_uri": "https://localhost:8080/",
          "height": 245
        },
        "outputId": "2f4aaf3d-ec9d-4dd0-c99e-efdebe5fc1e5"
      },
      "source": [
        "import nltk\n",
        "import string\n",
        "import pandas as pd\n",
        "import numpy as np\n",
        "import re\n",
        "from textblob import TextBlob\n",
        "import string\n",
        "import torch\n",
        "import pickle\n",
        "import warnings\n",
        "from sklearn.model_selection import train_test_split\n",
        "import numpy as np\n",
        "import tensorflow as tf\n",
        "from tensorflow import keras\n",
        "import pandas as pd\n",
        "import seaborn as sns\n",
        "from pylab import rcParams\n",
        "import string\n",
        "import re\n",
        "import matplotlib.pyplot as plt\n",
        "import math\n",
        "from matplotlib import rc\n",
        "from google.colab import drive\n",
        "from sklearn.model_selection import train_test_split\n",
        "from collections import Counter, defaultdict\n",
        "from bs4 import BeautifulSoup\n",
        "from sklearn.metrics import accuracy_score\n",
        "from sklearn.metrics import classification_report, confusion_matrix\n",
        "import nltk\n",
        "from nltk.corpus import stopwords\n",
        "from wordcloud import WordCloud\n",
        "#warnings.filterwarnings(\"ignore\", category=UserWarning, module='bs4')\n",
        "nltk.download('averaged_perceptron_tagger')\n",
        "nltk.download('punkt')\n",
        "nltk.download('wordnet')\n",
        "%matplotlib inline\n",
        "\n",
        "sns.set(style='whitegrid', palette='muted', font_scale=1.5)\n",
        "\n",
        "rcParams['figure.figsize'] = 14, 8\n",
        "\n",
        "RANDOM_SEED = 42\n",
        "\n",
        "np.random.seed(RANDOM_SEED)\n",
        "nltk.download('stopwords')\n"
      ],
      "execution_count": 4,
      "outputs": [
        {
          "output_type": "stream",
          "text": [
            "/usr/local/lib/python3.6/dist-packages/statsmodels/tools/_testing.py:19: FutureWarning: pandas.util.testing is deprecated. Use the functions in the public API at pandas.testing instead.\n",
            "  import pandas.util.testing as tm\n"
          ],
          "name": "stderr"
        },
        {
          "output_type": "stream",
          "text": [
            "[nltk_data] Downloading package averaged_perceptron_tagger to\n",
            "[nltk_data]     /root/nltk_data...\n",
            "[nltk_data]   Unzipping taggers/averaged_perceptron_tagger.zip.\n",
            "[nltk_data] Downloading package punkt to /root/nltk_data...\n",
            "[nltk_data]   Unzipping tokenizers/punkt.zip.\n",
            "[nltk_data] Downloading package wordnet to /root/nltk_data...\n",
            "[nltk_data]   Unzipping corpora/wordnet.zip.\n",
            "[nltk_data] Downloading package stopwords to /root/nltk_data...\n",
            "[nltk_data]   Unzipping corpora/stopwords.zip.\n"
          ],
          "name": "stdout"
        },
        {
          "output_type": "execute_result",
          "data": {
            "text/plain": [
              "True"
            ]
          },
          "metadata": {
            "tags": []
          },
          "execution_count": 4
        }
      ]
    },
    {
      "cell_type": "code",
      "metadata": {
        "id": "f9YuBak57k9k",
        "colab_type": "code",
        "colab": {}
      },
      "source": [
        "gpath = 'My Drive/kaggle/'\n",
        "data = pd.read_csv(gpath + 'sampleSubmission.csv', delimiter='\\t')\n",
        "train_data = pd.read_csv(gpath + 'train.tsv', delimiter='\\t')\n",
        "test_data = pd.read_csv(gpath + 'test.tsv', delimiter='\\t')"
      ],
      "execution_count": 5,
      "outputs": []
    },
    {
      "cell_type": "code",
      "metadata": {
        "id": "6YlAIepu76JD",
        "colab_type": "code",
        "colab": {
          "base_uri": "https://localhost:8080/",
          "height": 202
        },
        "outputId": "c22c06ec-01a5-4eb7-c6db-d95ab2e2a137"
      },
      "source": [
        "train_data.head()"
      ],
      "execution_count": 6,
      "outputs": [
        {
          "output_type": "execute_result",
          "data": {
            "text/html": [
              "<div>\n",
              "<style scoped>\n",
              "    .dataframe tbody tr th:only-of-type {\n",
              "        vertical-align: middle;\n",
              "    }\n",
              "\n",
              "    .dataframe tbody tr th {\n",
              "        vertical-align: top;\n",
              "    }\n",
              "\n",
              "    .dataframe thead th {\n",
              "        text-align: right;\n",
              "    }\n",
              "</style>\n",
              "<table border=\"1\" class=\"dataframe\">\n",
              "  <thead>\n",
              "    <tr style=\"text-align: right;\">\n",
              "      <th></th>\n",
              "      <th>PhraseId</th>\n",
              "      <th>SentenceId</th>\n",
              "      <th>Phrase</th>\n",
              "      <th>Sentiment</th>\n",
              "    </tr>\n",
              "  </thead>\n",
              "  <tbody>\n",
              "    <tr>\n",
              "      <th>0</th>\n",
              "      <td>1</td>\n",
              "      <td>1</td>\n",
              "      <td>A series of escapades demonstrating the adage ...</td>\n",
              "      <td>1</td>\n",
              "    </tr>\n",
              "    <tr>\n",
              "      <th>1</th>\n",
              "      <td>2</td>\n",
              "      <td>1</td>\n",
              "      <td>A series of escapades demonstrating the adage ...</td>\n",
              "      <td>2</td>\n",
              "    </tr>\n",
              "    <tr>\n",
              "      <th>2</th>\n",
              "      <td>3</td>\n",
              "      <td>1</td>\n",
              "      <td>A series</td>\n",
              "      <td>2</td>\n",
              "    </tr>\n",
              "    <tr>\n",
              "      <th>3</th>\n",
              "      <td>4</td>\n",
              "      <td>1</td>\n",
              "      <td>A</td>\n",
              "      <td>2</td>\n",
              "    </tr>\n",
              "    <tr>\n",
              "      <th>4</th>\n",
              "      <td>5</td>\n",
              "      <td>1</td>\n",
              "      <td>series</td>\n",
              "      <td>2</td>\n",
              "    </tr>\n",
              "  </tbody>\n",
              "</table>\n",
              "</div>"
            ],
            "text/plain": [
              "   PhraseId  ...  Sentiment\n",
              "0         1  ...          1\n",
              "1         2  ...          2\n",
              "2         3  ...          2\n",
              "3         4  ...          2\n",
              "4         5  ...          2\n",
              "\n",
              "[5 rows x 4 columns]"
            ]
          },
          "metadata": {
            "tags": []
          },
          "execution_count": 6
        }
      ]
    },
    {
      "cell_type": "code",
      "metadata": {
        "id": "PJZqDvha8zPT",
        "colab_type": "code",
        "colab": {
          "base_uri": "https://localhost:8080/",
          "height": 202
        },
        "outputId": "fb02485b-2633-4f24-b9e1-9ea80c2e1e28"
      },
      "source": [
        "test_data.head()"
      ],
      "execution_count": 7,
      "outputs": [
        {
          "output_type": "execute_result",
          "data": {
            "text/html": [
              "<div>\n",
              "<style scoped>\n",
              "    .dataframe tbody tr th:only-of-type {\n",
              "        vertical-align: middle;\n",
              "    }\n",
              "\n",
              "    .dataframe tbody tr th {\n",
              "        vertical-align: top;\n",
              "    }\n",
              "\n",
              "    .dataframe thead th {\n",
              "        text-align: right;\n",
              "    }\n",
              "</style>\n",
              "<table border=\"1\" class=\"dataframe\">\n",
              "  <thead>\n",
              "    <tr style=\"text-align: right;\">\n",
              "      <th></th>\n",
              "      <th>PhraseId</th>\n",
              "      <th>SentenceId</th>\n",
              "      <th>Phrase</th>\n",
              "    </tr>\n",
              "  </thead>\n",
              "  <tbody>\n",
              "    <tr>\n",
              "      <th>0</th>\n",
              "      <td>156061</td>\n",
              "      <td>8545</td>\n",
              "      <td>An intermittently pleasing but mostly routine ...</td>\n",
              "    </tr>\n",
              "    <tr>\n",
              "      <th>1</th>\n",
              "      <td>156062</td>\n",
              "      <td>8545</td>\n",
              "      <td>An intermittently pleasing but mostly routine ...</td>\n",
              "    </tr>\n",
              "    <tr>\n",
              "      <th>2</th>\n",
              "      <td>156063</td>\n",
              "      <td>8545</td>\n",
              "      <td>An</td>\n",
              "    </tr>\n",
              "    <tr>\n",
              "      <th>3</th>\n",
              "      <td>156064</td>\n",
              "      <td>8545</td>\n",
              "      <td>intermittently pleasing but mostly routine effort</td>\n",
              "    </tr>\n",
              "    <tr>\n",
              "      <th>4</th>\n",
              "      <td>156065</td>\n",
              "      <td>8545</td>\n",
              "      <td>intermittently pleasing but mostly routine</td>\n",
              "    </tr>\n",
              "  </tbody>\n",
              "</table>\n",
              "</div>"
            ],
            "text/plain": [
              "   PhraseId  SentenceId                                             Phrase\n",
              "0    156061        8545  An intermittently pleasing but mostly routine ...\n",
              "1    156062        8545  An intermittently pleasing but mostly routine ...\n",
              "2    156063        8545                                                 An\n",
              "3    156064        8545  intermittently pleasing but mostly routine effort\n",
              "4    156065        8545         intermittently pleasing but mostly routine"
            ]
          },
          "metadata": {
            "tags": []
          },
          "execution_count": 7
        }
      ]
    },
    {
      "cell_type": "markdown",
      "metadata": {
        "id": "44wOSF43f7vP",
        "colab_type": "text"
      },
      "source": [
        "The below function will lematize the input data.It is a part of pre processing the code"
      ]
    },
    {
      "cell_type": "code",
      "metadata": {
        "id": "cHbN-c_u9NVz",
        "colab_type": "code",
        "colab": {}
      },
      "source": [
        "def pre_processing(data):\n",
        "    def lemmatize_with_pos_tag(sentence):\n",
        "        tokenized_sentence = TextBlob(sentence)\n",
        "        tag_dict = {\"J\": 'a', \"N\": 'n', \"V\": 'v', \"R\": 'r'}\n",
        "        words_and_tags = [(word, tag_dict.get(pos[0], 'n')) for word, pos in tokenized_sentence.tags]\n",
        "        lemmatized_list = [wd.lemmatize(tag) for wd, tag in words_and_tags]\n",
        "        return \" \".join(lemmatized_list)\n",
        "    data = data.lower()\n",
        "    data = lemmatize_with_pos_tag(data)\n",
        "    return data"
      ],
      "execution_count": 8,
      "outputs": []
    },
    {
      "cell_type": "code",
      "metadata": {
        "id": "NpZtbTkPd8t_",
        "colab_type": "code",
        "colab": {}
      },
      "source": [
        "def cleaner(data):\n",
        "  sentence = []\n",
        "  for i in range(len(data)):\n",
        "    sentence.append(pre_processing(data['Phrase'][i]))\n",
        "  data['cleaned_phrase'] = sentence\n",
        "  return data"
      ],
      "execution_count": 9,
      "outputs": []
    },
    {
      "cell_type": "code",
      "metadata": {
        "id": "ZZ0nGE_Lc-_L",
        "colab_type": "code",
        "colab": {}
      },
      "source": [
        "test_data = cleaner(test_data)"
      ],
      "execution_count": 10,
      "outputs": []
    },
    {
      "cell_type": "code",
      "metadata": {
        "id": "DjPYm09JefNp",
        "colab_type": "code",
        "colab": {}
      },
      "source": [
        "train_data = cleaner(train_data)"
      ],
      "execution_count": 11,
      "outputs": []
    },
    {
      "cell_type": "code",
      "metadata": {
        "id": "LxPC8nuUbDKU",
        "colab_type": "code",
        "colab": {
          "base_uri": "https://localhost:8080/",
          "height": 53
        },
        "outputId": "adf3c9a4-edd6-483c-e347-9992ba230dd3"
      },
      "source": [
        "test_data['Phrase'][15]"
      ],
      "execution_count": 12,
      "outputs": [
        {
          "output_type": "execute_result",
          "data": {
            "application/vnd.google.colaboratory.intrinsic": {
              "type": "string"
            },
            "text/plain": [
              "\"Kidman is really the only thing that 's worth watching in Birthday Girl , a film by the stage-trained Jez Butterworth -LRB- Mojo -RRB- that serves as yet another example of the sad decline of British comedies in the post-Full Monty world .\""
            ]
          },
          "metadata": {
            "tags": []
          },
          "execution_count": 12
        }
      ]
    },
    {
      "cell_type": "code",
      "metadata": {
        "id": "Z6PtGBN5bFBj",
        "colab_type": "code",
        "colab": {
          "base_uri": "https://localhost:8080/",
          "height": 53
        },
        "outputId": "fbb0aa84-4401-419c-c5d8-62e3f620eacc"
      },
      "source": [
        "test_data['cleaned_phrase'][15]"
      ],
      "execution_count": 13,
      "outputs": [
        {
          "output_type": "execute_result",
          "data": {
            "application/vnd.google.colaboratory.intrinsic": {
              "type": "string"
            },
            "text/plain": [
              "\"kidman be really the only thing that 's worth watch in birthday girl a film by the stage-trained jez butterworth -lrb- mojo -rrb- that serve as yet another example of the sad decline of british comedy in the post-full monty world\""
            ]
          },
          "metadata": {
            "tags": []
          },
          "execution_count": 13
        }
      ]
    },
    {
      "cell_type": "code",
      "metadata": {
        "id": "rchVe6hsbM6U",
        "colab_type": "code",
        "colab": {}
      },
      "source": [
        "train_data.to_csv(gpath + 'cleaned_train.csv')\n",
        "test_data.to_csv(gpath + 'cleaned_test.csv')"
      ],
      "execution_count": 14,
      "outputs": []
    },
    {
      "cell_type": "code",
      "metadata": {
        "id": "weDAEWhmBvx-",
        "colab_type": "code",
        "colab": {
          "base_uri": "https://localhost:8080/",
          "height": 202
        },
        "outputId": "625163f2-2203-4b92-f31c-d6032090d39f"
      },
      "source": [
        "train_data.head()"
      ],
      "execution_count": 15,
      "outputs": [
        {
          "output_type": "execute_result",
          "data": {
            "text/html": [
              "<div>\n",
              "<style scoped>\n",
              "    .dataframe tbody tr th:only-of-type {\n",
              "        vertical-align: middle;\n",
              "    }\n",
              "\n",
              "    .dataframe tbody tr th {\n",
              "        vertical-align: top;\n",
              "    }\n",
              "\n",
              "    .dataframe thead th {\n",
              "        text-align: right;\n",
              "    }\n",
              "</style>\n",
              "<table border=\"1\" class=\"dataframe\">\n",
              "  <thead>\n",
              "    <tr style=\"text-align: right;\">\n",
              "      <th></th>\n",
              "      <th>PhraseId</th>\n",
              "      <th>SentenceId</th>\n",
              "      <th>Phrase</th>\n",
              "      <th>Sentiment</th>\n",
              "      <th>cleaned_phrase</th>\n",
              "    </tr>\n",
              "  </thead>\n",
              "  <tbody>\n",
              "    <tr>\n",
              "      <th>0</th>\n",
              "      <td>1</td>\n",
              "      <td>1</td>\n",
              "      <td>A series of escapades demonstrating the adage ...</td>\n",
              "      <td>1</td>\n",
              "      <td>a series of escapade demonstrate the adage tha...</td>\n",
              "    </tr>\n",
              "    <tr>\n",
              "      <th>1</th>\n",
              "      <td>2</td>\n",
              "      <td>1</td>\n",
              "      <td>A series of escapades demonstrating the adage ...</td>\n",
              "      <td>2</td>\n",
              "      <td>a series of escapade demonstrate the adage tha...</td>\n",
              "    </tr>\n",
              "    <tr>\n",
              "      <th>2</th>\n",
              "      <td>3</td>\n",
              "      <td>1</td>\n",
              "      <td>A series</td>\n",
              "      <td>2</td>\n",
              "      <td>a series</td>\n",
              "    </tr>\n",
              "    <tr>\n",
              "      <th>3</th>\n",
              "      <td>4</td>\n",
              "      <td>1</td>\n",
              "      <td>A</td>\n",
              "      <td>2</td>\n",
              "      <td>a</td>\n",
              "    </tr>\n",
              "    <tr>\n",
              "      <th>4</th>\n",
              "      <td>5</td>\n",
              "      <td>1</td>\n",
              "      <td>series</td>\n",
              "      <td>2</td>\n",
              "      <td>series</td>\n",
              "    </tr>\n",
              "  </tbody>\n",
              "</table>\n",
              "</div>"
            ],
            "text/plain": [
              "   PhraseId  ...                                     cleaned_phrase\n",
              "0         1  ...  a series of escapade demonstrate the adage tha...\n",
              "1         2  ...  a series of escapade demonstrate the adage tha...\n",
              "2         3  ...                                           a series\n",
              "3         4  ...                                                  a\n",
              "4         5  ...                                             series\n",
              "\n",
              "[5 rows x 5 columns]"
            ]
          },
          "metadata": {
            "tags": []
          },
          "execution_count": 15
        }
      ]
    },
    {
      "cell_type": "markdown",
      "metadata": {
        "id": "SQ7BUYVRgJ6v",
        "colab_type": "text"
      },
      "source": [
        "The below class will tokenize the data by removing html tags and split them to individual words and also remove stop words\n"
      ]
    },
    {
      "cell_type": "code",
      "metadata": {
        "id": "S21wqak-1XCU",
        "colab_type": "code",
        "colab": {}
      },
      "source": [
        "class Tokenizer:\n",
        "  \n",
        "  def clean(self, text):\n",
        "      no_html = BeautifulSoup(text).get_text()\n",
        "      clean = re.sub(\"[^a-z\\s]+\", \" \", no_html, flags=re.IGNORECASE)\n",
        "      return re.sub(\"(\\s+)\", \" \", clean)\n",
        "\n",
        " \n",
        "  def tokenize(self, text):\n",
        "      clean = self.clean(text).lower()\n",
        "      stopwords_en = stopwords.words(\"english\")\n",
        "      return [w for w in re.split(\"\\W+\", clean) if not w in stopwords_en]"
      ],
      "execution_count": 16,
      "outputs": []
    },
    {
      "cell_type": "markdown",
      "metadata": {
        "id": "MesG7uyPgoaY",
        "colab_type": "text"
      },
      "source": [
        "We will build the model using Naive Bayes.In the fir function we will find for each class the number of examples in it and the log probability(prior).\n",
        "We will use laplace smoothing function to get rid of the problem of a word in our vocabulary is in one class but not in other.Finally we will use predict function to predict sentiment from text data,we will use class priors and vocabulary\n",
        "\n"
      ]
    },
    {
      "cell_type": "code",
      "metadata": {
        "id": "PzF9gr2q9pGU",
        "colab_type": "code",
        "colab": {}
      },
      "source": [
        "class MultinomialNaiveBayes:\n",
        "  \n",
        "    def __init__(self, classes, tokenizer):\n",
        "      self.tokenizer = tokenizer\n",
        "      self.classes = classes\n",
        "      \n",
        "    def group_by_class(self, X, y):\n",
        "      data = dict()\n",
        "      for c in self.classes:\n",
        "        data[c] = X[np.where(y == c)]\n",
        "      return data\n",
        "           \n",
        "    def fit(self, X, y):\n",
        "        self.n_class_items = {}\n",
        "        self.log_class_priors = {}\n",
        "        self.word_counts = {}\n",
        "        self.vocab = set()\n",
        "\n",
        "        n = len(X)\n",
        "        \n",
        "        grouped_data = self.group_by_class(X, y)\n",
        "        \n",
        "        for c, data in grouped_data.items():\n",
        "          self.n_class_items[c] = len(data)\n",
        "          self.log_class_priors[c] = math.log(self.n_class_items[c] / n)\n",
        "          self.word_counts[c] = defaultdict(lambda: 0)\n",
        "          \n",
        "          for text in data:\n",
        "            counts = Counter(self.tokenizer.tokenize(text))\n",
        "            for word, count in counts.items():\n",
        "                if word not in self.vocab:\n",
        "                    self.vocab.add(word)\n",
        "\n",
        "                self.word_counts[c][word] += count\n",
        "                \n",
        "        return self\n",
        "      \n",
        "    def laplace_smoothing(self, word, text_class):\n",
        "      num = self.word_counts[text_class][word] + 1\n",
        "      denom = self.n_class_items[text_class] + len(self.vocab)\n",
        "      return math.log(num / denom)\n",
        "      \n",
        "    def predict(self, X):\n",
        "        result = []\n",
        "        for text in X:\n",
        "          \n",
        "          class_scores = {c: self.log_class_priors[c] for c in self.classes}\n",
        "\n",
        "          words = set(self.tokenizer.tokenize(text))\n",
        "          for word in words:\n",
        "              if word not in self.vocab: continue\n",
        "\n",
        "              for c in self.classes:\n",
        "                \n",
        "                log_w_given_c = self.laplace_smoothing(word, c)\n",
        "                class_scores[c] += log_w_given_c\n",
        "                \n",
        "          result.append(max(class_scores, key=class_scores.get))\n",
        "\n",
        "        return result"
      ],
      "execution_count": 17,
      "outputs": []
    },
    {
      "cell_type": "code",
      "metadata": {
        "id": "TxJon4QB9yHx",
        "colab_type": "code",
        "colab": {}
      },
      "source": [
        "X = train_data['cleaned_phrase'].values\n",
        "y = train_data['Sentiment'].values\n",
        "\n",
        "  \n",
        "X_train, X_test, y_train, y_test = train_test_split(X, y, test_size=0.2 , random_state=RANDOM_SEED)"
      ],
      "execution_count": 18,
      "outputs": []
    },
    {
      "cell_type": "code",
      "metadata": {
        "id": "r6UYooW-_U4X",
        "colab_type": "code",
        "colab": {}
      },
      "source": [
        "MNB = MultinomialNaiveBayes(\n",
        "    classes=np.unique(y), \n",
        "    tokenizer=Tokenizer()\n",
        ").fit(X_train, y_train)"
      ],
      "execution_count": 19,
      "outputs": []
    },
    {
      "cell_type": "code",
      "metadata": {
        "id": "mbxNH-UK_eD7",
        "colab_type": "code",
        "colab": {}
      },
      "source": [
        "y_hat = MNB.predict(X_test)\n"
      ],
      "execution_count": 20,
      "outputs": []
    },
    {
      "cell_type": "code",
      "metadata": {
        "id": "UnubJRkq_v9u",
        "colab_type": "code",
        "colab": {
          "base_uri": "https://localhost:8080/",
          "height": 35
        },
        "outputId": "406393bb-ca26-4215-8c99-34a5ad470d82"
      },
      "source": [
        "accuracy_score(y_test, y_hat)"
      ],
      "execution_count": 23,
      "outputs": [
        {
          "output_type": "execute_result",
          "data": {
            "text/plain": [
              "0.5844226579520697"
            ]
          },
          "metadata": {
            "tags": []
          },
          "execution_count": 23
        }
      ]
    },
    {
      "cell_type": "code",
      "metadata": {
        "id": "RSHjY7r1AFm-",
        "colab_type": "code",
        "colab": {
          "base_uri": "https://localhost:8080/",
          "height": 225
        },
        "outputId": "d9526db8-bf38-48cb-fa94-8e56c823d18e"
      },
      "source": [
        "print(classification_report(y_test, y_hat))"
      ],
      "execution_count": 24,
      "outputs": [
        {
          "output_type": "stream",
          "text": [
            "              precision    recall  f1-score   support\n",
            "\n",
            "           0       0.55      0.11      0.19      1416\n",
            "           1       0.45      0.65      0.53      5527\n",
            "           2       0.78      0.61      0.69     15639\n",
            "           3       0.46      0.69      0.55      6707\n",
            "           4       0.48      0.13      0.20      1923\n",
            "\n",
            "    accuracy                           0.58     31212\n",
            "   macro avg       0.54      0.44      0.43     31212\n",
            "weighted avg       0.62      0.58      0.58     31212\n",
            "\n"
          ],
          "name": "stdout"
        }
      ]
    },
    {
      "cell_type": "code",
      "metadata": {
        "id": "f0FtUMqLAgcj",
        "colab_type": "code",
        "colab": {
          "base_uri": "https://localhost:8080/",
          "height": 104
        },
        "outputId": "b0419241-09d8-4fc4-c83f-ae883a5e87b6"
      },
      "source": [
        "cnf_matrix = confusion_matrix(y_test, y_hat)\n",
        "cnf_matrix"
      ],
      "execution_count": 25,
      "outputs": [
        {
          "output_type": "execute_result",
          "data": {
            "text/plain": [
              "array([[ 158, 1078,  100,   80,    0],\n",
              "       [  94, 3591, 1220,  612,   10],\n",
              "       [  33, 2671, 9593, 3273,   69],\n",
              "       [   3,  547, 1313, 4649,  195],\n",
              "       [   0,   70,   90, 1513,  250]])"
            ]
          },
          "metadata": {
            "tags": []
          },
          "execution_count": 25
        }
      ]
    },
    {
      "cell_type": "code",
      "metadata": {
        "id": "aI21mpLgALnw",
        "colab_type": "code",
        "colab": {
          "base_uri": "https://localhost:8080/",
          "height": 586
        },
        "outputId": "56f449ae-72fa-4a54-826d-ea3c5541b052"
      },
      "source": [
        "class_names = [\"0\", \"1\",\"2\",\"3\",\"4\"]\n",
        "fig,ax = plt.subplots()\n",
        "\n",
        "\n",
        "sns.heatmap(pd.DataFrame(cnf_matrix), annot=True, cmap=\"Blues\", fmt=\"d\", cbar=False, xticklabels=class_names, yticklabels=class_names)\n",
        "ax.xaxis.set_label_position('top')\n",
        "plt.tight_layout()\n",
        "plt.ylabel('Actual sentiment')\n",
        "plt.xlabel('Predicted sentiment');"
      ],
      "execution_count": null,
      "outputs": [
        {
          "output_type": "display_data",
          "data": {
            "image/png": "[encoded data removed]",
            "text/plain": [
              "<Figure size 1008x576 with 1 Axes>"
            ]
          },
          "metadata": {
            "tags": []
          }
        }
      ]
    }
  ]
}